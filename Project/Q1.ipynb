{
 "cells": [
  {
   "cell_type": "code",
   "execution_count": 12,
   "metadata": {},
   "outputs": [],
   "source": [
    "import csv\n",
    "import pandas as pd\n",
    "import numpy as np\n",
    "import math\n",
    "import matplotlib.pyplot as plt\n",
    "import random"
   ]
  },
  {
   "cell_type": "code",
   "execution_count": 15,
   "metadata": {},
   "outputs": [],
   "source": [
    "cords = []\n",
    "with open('/Users/WanYi/Desktop/Heuristic Optimization/Data.txt','r') as f: #檔案讀取\n",
    "    i = 0\n",
    "    for line in f.readlines():\n",
    "        line = [int(x.replace('\\t','')) for x in line.split(' ')]\n",
    "        cords.append([])\n",
    "        for j in range(1,3):\n",
    "            cords[i].append(line[j])\n",
    "        i += 1\n"
   ]
  },
  {
   "cell_type": "code",
   "execution_count": 16,
   "metadata": {},
   "outputs": [],
   "source": [
    "def dist_cal (cords1,cords2):  #距離計算\n",
    "    dist=math.sqrt(math.pow(cords1[0]-cords2[0],2)+math.pow(cords1[1]-cords2[1],2))\n",
    "    return dist\n"
   ]
  },
  {
   "cell_type": "code",
   "execution_count": 17,
   "metadata": {},
   "outputs": [],
   "source": [
    "def dist_matrix(cords):  #建立距離矩陣\n",
    "    n=len(cords)\n",
    "    mat=[[dist_cal(cords[i],cords[j])for i in range(n)] for j in range(n)]\n",
    "    return mat"
   ]
  },
  {
   "cell_type": "code",
   "execution_count": 41,
   "metadata": {},
   "outputs": [],
   "source": [
    "def num_generate():  #隨機產生順序\n",
    "    nums=[]\n",
    "    num_order=[]\n",
    "    for h in range(0,100):\n",
    "        nums.append(h)\n",
    "    \n",
    "    num_order.append(0)\n",
    "    nums.remove(0)\n",
    "    for n in range(1,len(nums)):\n",
    "        \n",
    "        cur_num=random.choice(nums)\n",
    "        num_order.append(cur_num)\n",
    "        nums.remove(cur_num)\n",
    "    \n",
    "    \n",
    "    return num_order"
   ]
  },
  {
   "cell_type": "code",
   "execution_count": 42,
   "metadata": {},
   "outputs": [
    {
     "data": {
      "text/plain": [
       "99"
      ]
     },
     "execution_count": 42,
     "metadata": {},
     "output_type": "execute_result"
    }
   ],
   "source": [
    "len(num_generate())"
   ]
  },
  {
   "cell_type": "code",
   "execution_count": 19,
   "metadata": {},
   "outputs": [],
   "source": [
    "def two_opt(route): #隨機取兩點再顛倒,2_opt方法(結果較好)\n",
    "    i=1\n",
    "    k=0\n",
    "\n",
    "    while i>k:\n",
    "        i=random.randint(1,99)\n",
    "        k=random.randint(1,99)\n",
    "        #k=i+2\n",
    "\n",
    "    #print(i,\"//\",k)\n",
    "\n",
    "    new_route = route[0:i]\n",
    "    new_route.extend(reversed(route[i:k + 1]))\n",
    "    new_route.extend(route[k+1:])\n",
    "    #new_route.extend(0)\n",
    "    assert len(new_route) == len(route)\n",
    "    \n",
    "    return new_route\n"
   ]
  },
  {
   "cell_type": "code",
   "execution_count": 20,
   "metadata": {},
   "outputs": [],
   "source": [
    "def swap_random(seq): #隨機取兩點交換(結果較2_opt差)\n",
    "    #idx = range(1,len(seq))\n",
    "    i1=random.randint(1,98)\n",
    "    i2=random.randint(1,98)\n",
    "    \n",
    "    temp1=seq[i1]\n",
    "    seq[i1]=seq[i2]\n",
    "    seq[i2]=temp1\n",
    "    \n",
    "    return seq\n"
   ]
  },
  {
   "cell_type": "code",
   "execution_count": 21,
   "metadata": {},
   "outputs": [],
   "source": [
    "def dist_sum(test_order): #計算距離總合\n",
    "    \n",
    "    matrix=dist_matrix(cords)\n",
    "    \n",
    "    dist=0\n",
    "    k=0\n",
    "\n",
    "    for k in range(len(test_order)-1):\n",
    "\n",
    "        dist+=matrix[test_order[k]][test_order[k+1]]\n",
    "        \n",
    "\n",
    "    return dist"
   ]
  },
  {
   "cell_type": "code",
   "execution_count": 23,
   "metadata": {},
   "outputs": [],
   "source": [
    "\n",
    "# Starting SA sequence\n",
    "# Naming SA variables\n",
    "\n",
    "T_initial=1000 #Temperature\n",
    "T_final=10 #Minimum Temperature\n",
    "\n",
    "k=1000 #steps\n",
    "\n",
    "\n",
    "R_order=[] #initial Result\n",
    "R_Next=[]\n",
    "R_dist=0\n",
    "R_dist_compare=[]\n",
    "\n",
    "alpha=0.8 #Cooling Sequence\n"
   ]
  },
  {
   "cell_type": "code",
   "execution_count": 24,
   "metadata": {},
   "outputs": [
    {
     "ename": "TypeError",
     "evalue": "'int' object is not iterable",
     "output_type": "error",
     "traceback": [
      "\u001b[0;31m---------------------------------------------------------------------------\u001b[0m",
      "\u001b[0;31mTypeError\u001b[0m                                 Traceback (most recent call last)",
      "\u001b[0;32m<ipython-input-24-2e336f8d89f3>\u001b[0m in \u001b[0;36m<module>\u001b[0;34m()\u001b[0m\n\u001b[1;32m     15\u001b[0m     \u001b[0;32mfor\u001b[0m \u001b[0mi\u001b[0m \u001b[0;32min\u001b[0m \u001b[0mrange\u001b[0m\u001b[0;34m(\u001b[0m\u001b[0mk\u001b[0m\u001b[0;34m)\u001b[0m\u001b[0;34m:\u001b[0m\u001b[0;34m\u001b[0m\u001b[0m\n\u001b[1;32m     16\u001b[0m \u001b[0;34m\u001b[0m\u001b[0m\n\u001b[0;32m---> 17\u001b[0;31m         \u001b[0mR_Next\u001b[0m\u001b[0;34m=\u001b[0m\u001b[0mtwo_opt\u001b[0m\u001b[0;34m(\u001b[0m\u001b[0mR_Best\u001b[0m\u001b[0;34m)\u001b[0m  \u001b[0;31m#建立2_opt交換\u001b[0m\u001b[0;34m\u001b[0m\u001b[0m\n\u001b[0m\u001b[1;32m     18\u001b[0m         \u001b[0mR_dist_compare\u001b[0m\u001b[0;34m=\u001b[0m\u001b[0mdist_sum\u001b[0m\u001b[0;34m(\u001b[0m\u001b[0mR_Next\u001b[0m\u001b[0;34m)\u001b[0m\u001b[0;34m\u001b[0m\u001b[0m\n\u001b[1;32m     19\u001b[0m \u001b[0;34m\u001b[0m\u001b[0m\n",
      "\u001b[0;32m<ipython-input-19-d6014e7d5806>\u001b[0m in \u001b[0;36mtwo_opt\u001b[0;34m(route)\u001b[0m\n\u001b[1;32m     14\u001b[0m     \u001b[0mnew_route\u001b[0m\u001b[0;34m.\u001b[0m\u001b[0mextend\u001b[0m\u001b[0;34m(\u001b[0m\u001b[0mreversed\u001b[0m\u001b[0;34m(\u001b[0m\u001b[0mroute\u001b[0m\u001b[0;34m[\u001b[0m\u001b[0mi\u001b[0m\u001b[0;34m:\u001b[0m\u001b[0mk\u001b[0m \u001b[0;34m+\u001b[0m \u001b[0;36m1\u001b[0m\u001b[0;34m]\u001b[0m\u001b[0;34m)\u001b[0m\u001b[0;34m)\u001b[0m\u001b[0;34m\u001b[0m\u001b[0m\n\u001b[1;32m     15\u001b[0m     \u001b[0mnew_route\u001b[0m\u001b[0;34m.\u001b[0m\u001b[0mextend\u001b[0m\u001b[0;34m(\u001b[0m\u001b[0mroute\u001b[0m\u001b[0;34m[\u001b[0m\u001b[0mk\u001b[0m\u001b[0;34m+\u001b[0m\u001b[0;36m1\u001b[0m\u001b[0;34m:\u001b[0m\u001b[0;34m]\u001b[0m\u001b[0;34m)\u001b[0m\u001b[0;34m\u001b[0m\u001b[0m\n\u001b[0;32m---> 16\u001b[0;31m     \u001b[0mnew_route\u001b[0m\u001b[0;34m.\u001b[0m\u001b[0mextend\u001b[0m\u001b[0;34m(\u001b[0m\u001b[0;36m0\u001b[0m\u001b[0;34m)\u001b[0m\u001b[0;34m\u001b[0m\u001b[0m\n\u001b[0m\u001b[1;32m     17\u001b[0m     \u001b[0;32massert\u001b[0m \u001b[0mlen\u001b[0m\u001b[0;34m(\u001b[0m\u001b[0mnew_route\u001b[0m\u001b[0;34m)\u001b[0m \u001b[0;34m==\u001b[0m \u001b[0mlen\u001b[0m\u001b[0;34m(\u001b[0m\u001b[0mroute\u001b[0m\u001b[0;34m)\u001b[0m\u001b[0;34m\u001b[0m\u001b[0m\n\u001b[1;32m     18\u001b[0m \u001b[0;34m\u001b[0m\u001b[0m\n",
      "\u001b[0;31mTypeError\u001b[0m: 'int' object is not iterable"
     ]
    }
   ],
   "source": [
    "R_order=list(num_generate())\n",
    "R_Best=list(R_order)\n",
    "\n",
    "R_Best_dist=dist_sum(R_Best)\n",
    "\n",
    "R_Best_array=[]\n",
    "\n",
    "T_record=[]\n",
    "dist_record=[]\n",
    "\n",
    "x=[]\n",
    "y=[]\n",
    "\n",
    "while T_initial>=T_final:\n",
    "    for i in range(k):\n",
    "    \n",
    "        R_Next=two_opt(R_Best)  #建立2_opt交換\n",
    "        R_dist_compare=dist_sum(R_Next)\n",
    "        \n",
    "        #print(R_order[4],\"  //  \",R_Best[4])\n",
    "        \n",
    "        if R_Best_dist>R_dist_compare:\n",
    "            \n",
    "            R_Best=R_Next\n",
    "            R_Best_dist=R_dist_compare\n",
    "        else:\n",
    "            p=math.exp(-(R_dist_compare-R_Best_dist)/T_initial) #SA精髓\n",
    "            p_test=p/2\n",
    "            r=np.random.uniform(0,1)\n",
    "            \n",
    "            #print(r,\"  ///  \",p)\n",
    "            \n",
    "            if r<p_test:\n",
    "                \n",
    "                R_Best=R_Next\n",
    "                R_Best_dist=R_dist_compare\n",
    "                \n",
    "                #print(r,\"  ///  \",p)\n",
    "                print(\"#########\",T_initial,\"  //  \",R_Best_dist)\n",
    "            \n",
    "            \n",
    "    print(T_initial,\"  //  \",R_Best_dist)\n",
    "            \n",
    "                \n",
    "    #plt.plot(R_Best_array)\n",
    "    \n",
    "    dist_record.append(R_Best_dist)\n",
    "    T_record.append(T_initial)\n",
    "\n",
    "    T_initial=T_initial*alpha #Cooling Sequence\n"
   ]
  },
  {
   "cell_type": "code",
   "execution_count": null,
   "metadata": {},
   "outputs": [],
   "source": [
    "pic_order=[]\n",
    "for j in range(len(R_Best)):\n",
    "    pic_order.append(cords[R_Best[j]])"
   ]
  },
  {
   "cell_type": "code",
   "execution_count": null,
   "metadata": {},
   "outputs": [],
   "source": [
    "pic=pic_order\n",
    "\n",
    "pic_x=[]\n",
    "pic_y=[]\n",
    "\n",
    "for p in range (len(pic)):\n",
    "    pic_x.append(pic[p][0])\n",
    "    pic_y.append(pic[p][1])\n",
    "    \n",
    "plt.figure(figsize=(10,10))\n",
    "plt.plot(pic_x,pic_y)\n",
    "\n"
   ]
  },
  {
   "cell_type": "code",
   "execution_count": null,
   "metadata": {},
   "outputs": [],
   "source": []
  }
 ],
 "metadata": {
  "kernelspec": {
   "display_name": "Python 3",
   "language": "python",
   "name": "python3"
  },
  "language_info": {
   "codemirror_mode": {
    "name": "ipython",
    "version": 3
   },
   "file_extension": ".py",
   "mimetype": "text/x-python",
   "name": "python",
   "nbconvert_exporter": "python",
   "pygments_lexer": "ipython3",
   "version": "3.5.5"
  }
 },
 "nbformat": 4,
 "nbformat_minor": 2
}
